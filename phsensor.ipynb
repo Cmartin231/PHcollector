{
 "cells": [
  {
   "cell_type": "raw",
   "id": "08311208-dbb7-4787-afcb-99f426e62c03",
   "metadata": {},
   "source": [
    "##The goal of the project is to create a functioning code that will extract information from a pH sensor, store it in a storage medium using pandas, and then plot the data into a titration curve for analysis.\n",
    "\n",
    "##Caden: My part of the project is to take the data that was collected from the pH sensor and store it in a storage medium using pandas. This storage medium will then be used to create a titration curve for the experiment. I have used a pandas user guide to aid in the progress of my project. The URL for this information is https://pandas.pydata.org/docs/user_guide/io.html.\n"
   ]
  },
  {
   "cell_type": "code",
   "execution_count": null,
   "id": "adf8d595-1b04-4e3a-aee5-a993227e987a",
   "metadata": {},
   "outputs": [],
   "source": [
    "##Read the data collected then it will convert into a data frame and finally to a csv for analysis.\n",
    "\n",
    "import pandas as pd\n",
    "\n",
    "from io import StringIO\n",
    "\n",
    "data = pd.read_csv(\"pHdata.txt\",\n",
    "                      delimiter = '/')\n",
    "pd.read_csv(StringIO(data))\n"
   ]
  },
  {
   "cell_type": "code",
   "execution_count": null,
   "id": "2ffd9d3a-cd65-4910-89f5-7cd87922f38a",
   "metadata": {},
   "outputs": [],
   "source": []
  }
 ],
 "metadata": {
  "kernelspec": {
   "display_name": "Python 3 (ipykernel)",
   "language": "python",
   "name": "python3"
  },
  "language_info": {
   "codemirror_mode": {
    "name": "ipython",
    "version": 3
   },
   "file_extension": ".py",
   "mimetype": "text/x-python",
   "name": "python",
   "nbconvert_exporter": "python",
   "pygments_lexer": "ipython3",
   "version": "3.12.1"
  }
 },
 "nbformat": 4,
 "nbformat_minor": 5
}
