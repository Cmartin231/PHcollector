{
 "cells": [
  {
   "cell_type": "raw",
   "id": "a64a8f75-ea19-4bd6-bb14-a1c8c4709d22",
   "metadata": {},
   "source": [
    "##The goal of the project is to create a functioning code that will extract information from a pH sensor, store it in a storage medium using pandas, and then plot the data into a titration curve for analysis.\n",
    "\n",
    "##Caden: My part of the project is to take the data that was collected from the pH sensor and store it in a storage medium using pandas. This storage medium will then be used to create a titration curve for the experiment. I have used a pandas user guide to aid in the progress of my project. The URL for this information is https://pandas.pydata.org/docs/user_guide/io.html.\n",
    "\n",
    "##Rylie: My part of the project is to take the collected data and plot it into a titration curve using the Matplot code. The progress I have made is the basic code for the axes with appropriate labels. The data values included are not the data points used in this experiment, but placeholders until data values are taken. The information and code was obtained from https://www.w3schools.com/python/matplotlib_labels.asp."
   ]
  },
  {
   "cell_type": "code",
   "execution_count": null,
   "id": "adf8d595-1b04-4e3a-aee5-a993227e987a",
   "metadata": {},
   "outputs": [],
   "source": [
    "##Read the data collected then it will convert into a data frame and finally to a csv for analysis.\n",
    "\n",
    "import pandas as pd\n",
    "from io import StringIO\n",
    "\n",
    "data = pd.read_csv(\"pHdata.txt\",\n",
    "                      delimiter = '/')\n",
    "pd.read_csv(StringIO(data))\n",
    "\n",
    "#Dataframe will be stacked to show the acid being titrated and the volume of NaOH being added and the pH level\n",
    "df=DataFrame([data], columns=['Acid','NaOH','pH'])\n",
    "\n",
    "df.set_index(['Acid'], inplace=True)\n",
    "df.columns=pd.MultiIndex.from_tuples([(col[-4:],col[:-5]) for col in df.columns], names=['NaOH','pH'])\n",
    "df=df.stack(level=0)\n",
    "df\n"
   ]
  },
  {
   "cell_type": "code",
   "execution_count": null,
   "id": "ef5deafa-8b30-437b-8dfc-9bf17235d06a",
   "metadata": {},
   "outputs": [],
   "source": [
    "import numpy as np\n",
    "import matplotlib.pyplot as plt\n",
    "\n",
    "x = np.array([20, 50, 60, 90, 100, 150])\n",
    "y = np.array([1.2, 2.6, 4.0, 4.7, 7.1, 9.2])\n",
    "\n",
    "plt.plot(x, y)\n",
    "\n",
    "plt.xlabel(\"NaOH volume\")\n",
    "plt.ylabel(\"pH value\")\n",
    "\n",
    "plt.show()"
   ]
  }
 ],
 "metadata": {
  "kernelspec": {
   "display_name": "Python 3 (ipykernel)",
   "language": "python",
   "name": "python3"
  },
  "language_info": {
   "codemirror_mode": {
    "name": "ipython",
    "version": 3
   },
   "file_extension": ".py",
   "mimetype": "text/x-python",
   "name": "python",
   "nbconvert_exporter": "python",
   "pygments_lexer": "ipython3",
   "version": "3.12.1"
  }
 },
 "nbformat": 4,
 "nbformat_minor": 5
}
