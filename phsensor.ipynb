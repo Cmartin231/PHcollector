{
 "cells": [
  {
   "cell_type": "markdown",
   "id": "8e7ff0dc-e29b-4161-a9e4-955718d88143",
   "metadata": {},
   "source": [
    "The goal of the project is to create a functioning code that will extract information from a pH sensor, store it in a storage medium using pandas, and then plot the data into a titration curve for analysis.\n",
    "\n",
    "Levi: My part of the project is to create a code that works on the interpretation of data from various parts of the research to create a final resulating pH. The URL to the repository is attached: \n",
    "https://github.com/nmalmberg/Genesys/blob/master/genesys.py\n",
    "https://github.com/AtlasScientific/Raspberry-Pi-sample-code/blob/master/uart.py\n",
    "\n",
    "Caden: My part of the project is to take the data that was collected from the pH sensor and store it in a storage medium using pandas. This storage medium will then be used to create a titration curve for the experiment. I have used a pandas user guide to aid in the progress of my project. The URL for this information is https://pandas.pydata.org/docs/user_guide/io.html.\n",
    "Atlatas Scientific pH-EZO datasheet manual\n",
    "https://www3.ntu.edu.sg/home/ehchua/programming/howto/Regexe.html\n",
    "https://docs.python.org/3/library/csv.html#csv.reader\n",
    "\n",
    "Rylie: My part of the project is to take the collected data and plot it into a titration curve using the Matplot code. The progress I have made is the basic code for the axes with appropriate labels. The data values included are not the data points used in this experiment, but placeholders until data values are taken. The information and code was obtained from https://www.w3schools.com/python/matplotlib_labels.asp."
   ]
  },
  {
   "cell_type": "markdown",
   "id": "a3de8c6b-7a17-4557-b72b-d1e0e3122c5c",
   "metadata": {},
   "source": [
    "This code block creates a connection to the pH-EZO sensor"
   ]
  },
  {
   "cell_type": "code",
   "execution_count": 2,
   "id": "019d67da",
   "metadata": {},
   "outputs": [
    {
     "data": {
      "text/plain": [
       "b''"
      ]
     },
     "execution_count": 2,
     "metadata": {},
     "output_type": "execute_result"
    }
   ],
   "source": [
    "import time\n",
    "import serial\n",
    "\n",
    "#connecting to usbport\n",
    "usbport = '/dev/cu.usbserial-14110'\n",
    "ser = serial.Serial(usbport, 9600, timeout=0)\n",
    "    \n",
    "ser.write(b'C,0\\n')\n",
    "ser.write(b'R\\n')\n",
    "ser.read(7)"
   ]
  },
  {
   "cell_type": "markdown",
   "id": "c5c95c69-4be7-4e52-96c3-36693b44d6f2",
   "metadata": {},
   "source": [
    "This code defines the calibration of the pH sensor"
   ]
  },
  {
   "cell_type": "code",
   "execution_count": 62,
   "id": "95dab321-fecd-4dbc-96ed-fd7f40a97d41",
   "metadata": {},
   "outputs": [],
   "source": [
    "#Calibration values set\n",
    "CALIBRATION_VALUES = [10, 7, 4]\n",
    "# creating a function to create a calibration mode over the sensor #\n",
    "def calibrate():\n",
    "    ser.write(b'C\\n')\n",
    "    time.sleep(0.1)\n",
    "    ser.write(b'R\\n')\n",
    "    time.sleep(0.1)\n",
    "    ser.write(b'W'+bytes(CALIBRATION_VALUES)+b'\\n')\n",
    "    time.sleep(0.1)\n",
    "    ser.write(b'S\\n')\n",
    "    time.sleep(0.1)\n",
    "    ser.write(b'R\\n')\n",
    "    time.sleep(0.1)\n",
    "    ser.close()\n",
    "\n",
    "calibrate()"
   ]
  },
  {
   "cell_type": "markdown",
   "id": "e1215a1c-cd8c-42c0-90a4-8f984a27f93e",
   "metadata": {},
   "source": [
    "This code defines the readings of the pH sensor into a loop for collection"
   ]
  },
  {
   "cell_type": "code",
   "execution_count": 4,
   "id": "640fea08-d25b-4839-8ec7-08b4956929dd",
   "metadata": {},
   "outputs": [
    {
     "name": "stdout",
     "output_type": "stream",
     "text": [
      "pH: 3.617\n",
      "pH: 3.617\n",
      "pH: 3.617\n",
      "pH: 3.616\n",
      "pH: 3.617\n",
      "pH: 3.616\n",
      "pH: 3.616\n",
      "pH: 3.616\n",
      "pH: 3.616\n",
      "pH: 3.617\n",
      "pH: 3.617\n",
      "pH: 3.616\n",
      "pH: 3.616\n",
      "pH: 3.617\n",
      "pH: 3.616\n",
      "pH: 3.615\n",
      "pH: 3.614\n",
      "pH: 3.616\n",
      "pH: 3.615\n",
      "pH: 3.614\n"
     ]
    }
   ],
   "source": [
    "import re\n",
    "import csv\n",
    "def read_ph():\n",
    "    ser.write(b'R\\n')\n",
    "    ser.write(b'C,0\\n') \n",
    "    time.sleep(0.1)\n",
    "\n",
    "    response = ser.read(7)\n",
    "\n",
    "    response = ser.read(ser.inWaiting()).decode('utf-8').strip()\n",
    "    response = re.findall(r'-?\\d+\\.?\\d*', response)\n",
    "    if response:\n",
    "        pH = float(response[1])\n",
    "        return pH\n",
    "    else:\n",
    "        return None  \n",
    "    \n",
    "    pH = float(response)\n",
    "    return pH\n",
    "    \n",
    "# termination of loop #\n",
    "start_time = time.time()\n",
    "loop_time_limit = 60\n",
    "# main loop to read pH value of the sensor # \n",
    "while True:\n",
    "    pH = read_ph()\n",
    "    print(\"pH:\", pH)\n",
    "    time.sleep(3)\n",
    "    elapsed_time = time.time() - start_time\n",
    "    if elapsed_time > loop_time_limit:\n",
    "        break\n",
    "\n",
    "pH = [pH]\n",
    "\n",
    "with open('pH_data.csv', 'w', newline='') as csvfile:\n",
    "    writer = csv.writer(csvfile)\n",
    "    writer.writerow('pH')\n",
    "    for row in pH[1:]:\n",
    "        writer.writerow(row)"
   ]
  },
  {
   "cell_type": "markdown",
   "id": "88937f2e-8392-4dd3-96a5-572d614c2a12",
   "metadata": {},
   "source": [
    "This code block takes data from the sensor and converts into appropriate data frame to use for analysis"
   ]
  },
  {
   "cell_type": "code",
   "execution_count": 11,
   "id": "a5931199",
   "metadata": {},
   "outputs": [
    {
     "name": "stdin",
     "output_type": "stream",
     "text": [
      "Enter the name of the Acid being titrated:  HCl\n",
      "Enter the volume of NaOH added to the acid:  20\n"
     ]
    },
    {
     "ename": "AttributeError",
     "evalue": "Can only use .dt accessor with datetimelike values",
     "output_type": "error",
     "traceback": [
      "\u001b[0;31m---------------------------------------------------------------------------\u001b[0m",
      "\u001b[0;31mAttributeError\u001b[0m                            Traceback (most recent call last)",
      "Cell \u001b[0;32mIn[11], line 30\u001b[0m\n\u001b[1;32m     28\u001b[0m df\u001b[38;5;241m.\u001b[39mindex \u001b[38;5;241m=\u001b[39m data\u001b[38;5;241m.\u001b[39mindex[:\u001b[38;5;28mlen\u001b[39m(df)]\n\u001b[1;32m     29\u001b[0m \u001b[38;5;66;03m#Adds the NaOH values to the data frame\u001b[39;00m\n\u001b[0;32m---> 30\u001b[0m df[\u001b[38;5;124m'\u001b[39m\u001b[38;5;124mNaOH\u001b[39m\u001b[38;5;124m'\u001b[39m] \u001b[38;5;241m=\u001b[39m (flow_rate \u001b[38;5;241m*\u001b[39m \u001b[43mdf\u001b[49m\u001b[38;5;241;43m.\u001b[39;49m\u001b[43mindex\u001b[49m\u001b[38;5;241;43m.\u001b[39;49m\u001b[43mto_series\u001b[49m\u001b[43m(\u001b[49m\u001b[43m)\u001b[49m\u001b[38;5;241;43m.\u001b[39;49m\u001b[43mdt\u001b[49m\u001b[38;5;241m.\u001b[39mtotal_seconds())\u001b[38;5;241m.\u001b[39mvalues\n\u001b[1;32m     32\u001b[0m \u001b[38;5;66;03m##titration is a data frame that shows the values of the volume of NaOH and values of pH from the titration experiment\u001b[39;00m\n\u001b[1;32m     33\u001b[0m \u001b[38;5;28;01mdef\u001b[39;00m \u001b[38;5;21mtitration\u001b[39m(df):\n",
      "File \u001b[0;32m~/anaconda3/envs/python/lib/python3.12/site-packages/pandas/core/generic.py:6293\u001b[0m, in \u001b[0;36mNDFrame.__getattr__\u001b[0;34m(self, name)\u001b[0m\n\u001b[1;32m   6286\u001b[0m \u001b[38;5;28;01mif\u001b[39;00m (\n\u001b[1;32m   6287\u001b[0m     name \u001b[38;5;129;01mnot\u001b[39;00m \u001b[38;5;129;01min\u001b[39;00m \u001b[38;5;28mself\u001b[39m\u001b[38;5;241m.\u001b[39m_internal_names_set\n\u001b[1;32m   6288\u001b[0m     \u001b[38;5;129;01mand\u001b[39;00m name \u001b[38;5;129;01mnot\u001b[39;00m \u001b[38;5;129;01min\u001b[39;00m \u001b[38;5;28mself\u001b[39m\u001b[38;5;241m.\u001b[39m_metadata\n\u001b[1;32m   6289\u001b[0m     \u001b[38;5;129;01mand\u001b[39;00m name \u001b[38;5;129;01mnot\u001b[39;00m \u001b[38;5;129;01min\u001b[39;00m \u001b[38;5;28mself\u001b[39m\u001b[38;5;241m.\u001b[39m_accessors\n\u001b[1;32m   6290\u001b[0m     \u001b[38;5;129;01mand\u001b[39;00m \u001b[38;5;28mself\u001b[39m\u001b[38;5;241m.\u001b[39m_info_axis\u001b[38;5;241m.\u001b[39m_can_hold_identifiers_and_holds_name(name)\n\u001b[1;32m   6291\u001b[0m ):\n\u001b[1;32m   6292\u001b[0m     \u001b[38;5;28;01mreturn\u001b[39;00m \u001b[38;5;28mself\u001b[39m[name]\n\u001b[0;32m-> 6293\u001b[0m \u001b[38;5;28;01mreturn\u001b[39;00m \u001b[38;5;28;43mobject\u001b[39;49m\u001b[38;5;241;43m.\u001b[39;49m\u001b[38;5;21;43m__getattribute__\u001b[39;49m\u001b[43m(\u001b[49m\u001b[38;5;28;43mself\u001b[39;49m\u001b[43m,\u001b[49m\u001b[43m \u001b[49m\u001b[43mname\u001b[49m\u001b[43m)\u001b[49m\n",
      "File \u001b[0;32m~/anaconda3/envs/python/lib/python3.12/site-packages/pandas/core/accessor.py:224\u001b[0m, in \u001b[0;36mCachedAccessor.__get__\u001b[0;34m(self, obj, cls)\u001b[0m\n\u001b[1;32m    221\u001b[0m \u001b[38;5;28;01mif\u001b[39;00m obj \u001b[38;5;129;01mis\u001b[39;00m \u001b[38;5;28;01mNone\u001b[39;00m:\n\u001b[1;32m    222\u001b[0m     \u001b[38;5;66;03m# we're accessing the attribute of the class, i.e., Dataset.geo\u001b[39;00m\n\u001b[1;32m    223\u001b[0m     \u001b[38;5;28;01mreturn\u001b[39;00m \u001b[38;5;28mself\u001b[39m\u001b[38;5;241m.\u001b[39m_accessor\n\u001b[0;32m--> 224\u001b[0m accessor_obj \u001b[38;5;241m=\u001b[39m \u001b[38;5;28;43mself\u001b[39;49m\u001b[38;5;241;43m.\u001b[39;49m\u001b[43m_accessor\u001b[49m\u001b[43m(\u001b[49m\u001b[43mobj\u001b[49m\u001b[43m)\u001b[49m\n\u001b[1;32m    225\u001b[0m \u001b[38;5;66;03m# Replace the property with the accessor object. Inspired by:\u001b[39;00m\n\u001b[1;32m    226\u001b[0m \u001b[38;5;66;03m# https://www.pydanny.com/cached-property.html\u001b[39;00m\n\u001b[1;32m    227\u001b[0m \u001b[38;5;66;03m# We need to use object.__setattr__ because we overwrite __setattr__ on\u001b[39;00m\n\u001b[1;32m    228\u001b[0m \u001b[38;5;66;03m# NDFrame\u001b[39;00m\n\u001b[1;32m    229\u001b[0m \u001b[38;5;28mobject\u001b[39m\u001b[38;5;241m.\u001b[39m\u001b[38;5;21m__setattr__\u001b[39m(obj, \u001b[38;5;28mself\u001b[39m\u001b[38;5;241m.\u001b[39m_name, accessor_obj)\n",
      "File \u001b[0;32m~/anaconda3/envs/python/lib/python3.12/site-packages/pandas/core/indexes/accessors.py:643\u001b[0m, in \u001b[0;36mCombinedDatetimelikeProperties.__new__\u001b[0;34m(cls, data)\u001b[0m\n\u001b[1;32m    640\u001b[0m \u001b[38;5;28;01melif\u001b[39;00m \u001b[38;5;28misinstance\u001b[39m(data\u001b[38;5;241m.\u001b[39mdtype, PeriodDtype):\n\u001b[1;32m    641\u001b[0m     \u001b[38;5;28;01mreturn\u001b[39;00m PeriodProperties(data, orig)\n\u001b[0;32m--> 643\u001b[0m \u001b[38;5;28;01mraise\u001b[39;00m \u001b[38;5;167;01mAttributeError\u001b[39;00m(\u001b[38;5;124m\"\u001b[39m\u001b[38;5;124mCan only use .dt accessor with datetimelike values\u001b[39m\u001b[38;5;124m\"\u001b[39m)\n",
      "\u001b[0;31mAttributeError\u001b[0m: Can only use .dt accessor with datetimelike values"
     ]
    }
   ],
   "source": [
    "##Read the data collected then it will convert into a dataframe then will be read to be plotted \n",
    "\n",
    "import pandas as pd\n",
    "from io import StringIO\n",
    "\n",
    "data = pd.read_csv('ph_data.csv', delimiter='\\t', names=['Time', 'pH'])\n",
    "\n",
    "# Convert the 'Time' column to a DateTime object\n",
    "#data['Time'] = pd.to_datetime(data['Time'], format='%Y-%m-%d %H:%M:%S.%f')\n",
    "\n",
    "#Naming the acid that was used in titration\n",
    "Acid = input(\"Enter the name of the Acid being titrated: \")\n",
    "\n",
    "#Convert to the volume of NaOH from the time that passed\n",
    "Volume = float(input(\"Enter the volume of NaOH added to the acid: \")) #The volume used for the titration\n",
    "\n",
    "flow_rate = Volume / loop_time_limit #Flow Rate of the titration\n",
    "NaOH = flow_rate * elapsed_time #NaOh added at specific elapsed time\n",
    "\n",
    "##Dataframe that is stacked will columns of only the volume of NaOH and pH value of the solution\n",
    "df = pd.DataFrame({\n",
    "    'Acid': Acid, \n",
    "    'NaOH': [0], \n",
    "    'pH': ['pH']\n",
    "})\n",
    "\n",
    "#df.set_index(['Time'], inplace=True)\n",
    "df.index = data.index[:len(df)]\n",
    "#Adds the NaOH values to the data frame\n",
    "df['NaOH'] = (flow_rate * df.index.to_series().dt.total_seconds()).values\n",
    "\n",
    "##titration is a data frame that shows the values of the volume of NaOH and values of pH from the titration experiment\n",
    "def titration(df):\n",
    "    titration=pd.DataFrame(df.to_records())\n",
    "    titration.columns['NaOH', 'pH']\n",
    "    return titration\n",
    "\n",
    "titration_data = titration(df)\n"
   ]
  },
  {
   "cell_type": "markdown",
   "id": "807f9af7-18a7-4735-b749-2ede90835009",
   "metadata": {},
   "source": [
    "The code block will calulate the equivalence point of the experiment and display a graph of the titration curve."
   ]
  },
  {
   "cell_type": "code",
   "execution_count": null,
   "id": "7fad3b38",
   "metadata": {},
   "outputs": [],
   "source": [
    "import numpy as np\n",
    "import matplotlib.pyplot as plt\n",
    "\n",
    "#Calculate the pH change\n",
    "pH_change = data['pH'].diff()\n",
    "\n",
    "#Find the greatest change of pH\n",
    "equivalence_point = pH_change.idxmax()\n",
    "\n",
    "#The equivalence value is printed\n",
    "print(\"The equivalence point is at index\", equivalence point)\n",
    "\n",
    "#Creating a scatter plot of the titration experiment\n",
    "plt.scatter(titration_data['NaOH'], titration_data['pH'])\n",
    "\n",
    "#Label varies axis and the title of the graph\n",
    "plt.xlabel(\"NaOH volume\")\n",
    "plt.ylabel(\"pH value\")\n",
    "plt.title(\"Titration Curve\")\n",
    "\n",
    "plt.show()"
   ]
  },
  {
   "cell_type": "code",
   "execution_count": null,
   "id": "3318f5f4-14b8-43f1-860a-b3d2960aeebd",
   "metadata": {},
   "outputs": [],
   "source": []
  }
 ],
 "metadata": {
  "kernelspec": {
   "display_name": "Python 3 (ipykernel)",
   "language": "python",
   "name": "python3"
  },
  "language_info": {
   "codemirror_mode": {
    "name": "ipython",
    "version": 3
   },
   "file_extension": ".py",
   "mimetype": "text/x-python",
   "name": "python",
   "nbconvert_exporter": "python",
   "pygments_lexer": "ipython3",
   "version": "3.12.1"
  }
 },
 "nbformat": 4,
 "nbformat_minor": 5
}
