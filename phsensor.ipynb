{
 "cells": [
  {
   "cell_type": "raw",
   "id": "a64a8f75-ea19-4bd6-bb14-a1c8c4709d22",
   "metadata": {},
   "source": [
    "##The goal of the project is to create a functioning code that will extract information from a pH sensor, store it in a storage medium using pandas, and then plot the data into a titration curve for analysis.\n",
    "\n",
    "##Levi: My part of the prject is to create a code that works on the interpretation of data from various parts of the research to create a final resulating pH. The URL to the repository is attached: https://github.com/nmalmberg/Genesys/blob/master/genesys.py\n",
    "\n",
    "##Caden: My part of the project is to take the data that was collected from the pH sensor and store it in a storage medium using pandas. This storage medium will then be used to create a titration curve for the experiment. I have used a pandas user guide to aid in the progress of my project. The URL for this information is https://pandas.pydata.org/docs/user_guide/io.html. Information regarding the code for the sensor help was used from https://github.com/AtlasScientific/Raspberry-Pi-sample-code/blob/master/uart.py\n",
    "\n",
    "##Rylie: My part of the project is to take the collected data and plot it into a titration curve using the Matplot code. The progress I have made is the basic code for the axes with appropriate labels. The data values included are not the data points used in this experiment, but placeholders until data values are taken. The information and code was obtained from https://www.w3schools.com/python/matplotlib_labels.asp."
   ]
  },
  {
   "cell_type": "code",
   "execution_count": null,
   "id": "62988640-17a0-4d32-b0ec-bbea36868fa8",
   "metadata": {},
   "outputs": [],
   "source": [
    "import serial from SerialException\n",
    "##Defining commands that can be read by the sensor.\n",
    "def send_cmd(cmd):\n",
    "\t\"\"\"\n",
    "\tSend a command to the pH sensor.\n",
    "\tBefore sending, add where to return at the end of the command.\n",
    "\t:param cmd:\n",
    "\t:return:\n",
    "\t\"\"\"\n",
    "\tbuf = cmd + \"\\r\"     \t\n",
    "\ttry:\n",
    "\t\tser.write(buf.encode('utf-8'))\n",
    "\t\treturn True\n",
    "\texcept SerialException as e:\n",
    "\t\tprint (\"Error, \", e)\n",
    "\t\treturn None\n",
    "\n",
    "def read_sing\n",
    "    lsl = len(b'\\r')\n",
    "\tline_buffer = []\n",
    "\twhile True:\n",
    "\t\tnext_char = ser.read(1)\n",
    "\t\tif next_char == b'':\n",
    "\t\t\tbreak\n",
    "\t\tline_buffer.append(next_char)\n",
    "\t\tif (len(line_buffer) >= lsl and\n",
    "\t\t\t\tline_buffer[-lsl:] == [b'\\r']):\n",
    "\t\t\tbreak\n",
    "\treturn b''.join(line_buffer)\n",
    "\n",
    "def read_mult\n",
    "    lines = []\n",
    "         try:\n",
    "            while True:\n",
    "                line = read_sing()\n",
    "                 if not line:\n",
    "                     break\n",
    "                     ser.flush_input()\n",
    "                lines.append(line)\n",
    "            return lines\n",
    "\n",
    "if name == \"main\":\n",
    "\t"
   ]
  },
  {
   "cell_type": "code",
   "execution_count": null,
   "id": "8c6ba6ab-4729-44c1-bb33-968666ff77fe",
   "metadata": {},
   "outputs": [],
   "source": [
    "from serial import Serial\n",
    "\n",
    "class Atlas(Serial):\n",
    "    def potentialOfH(self, absorb=None)\n",
    "        if pH is None: \n",
    "            self.send_cmd('R')\n",
    "        else: \n",
    "            if (pH >= 0) and (pH <= 14.0):\n",
    "                self.send_cmd('ABS {:.3}'.format(absorb))\n",
    "            else:\n",
    "                raise ValueError('pH must be between 0 and 14.0')\n",
    "        return\n",
    "    def reading(self):\n",
    "        return float(self.send_cmd('R'))"
   ]
  },
  {
   "cell_type": "code",
   "execution_count": null,
   "id": "adf8d595-1b04-4e3a-aee5-a993227e987a",
   "metadata": {},
   "outputs": [],
   "source": [
    "##Read the data collected then it will convert into a dataframe then will be read to be plotted \n",
    "\n",
    "import pandas as pd\n",
    "from io import StringIO\n",
    "\n",
    "data=pd.read_csv(\"pHdata.txt\", index_col=0)\n",
    "\n",
    "##Dataframe that is stacked will columns of only the volume of NaOH and pH value of the solution\n",
    "df=DataFrame([data], columns=['Acid','NaOH','pH'])\n",
    "\n",
    "##Dataframe is set to stack with columns of the volume of NaOH and the pH value read from the sensor\n",
    "df.set_index(['Acid'], inplace=True)\n",
    "df.columns=pd.MultiIndex.from_tuples([(col[-4:],col[:-5]) for col in df.columns], names=['NaOH','pH'])\n",
    "df=df.stack(level=0)\n",
    "\n",
    "##titration is a dataframe that shows the values of the volume of NaOH and values of pH from the titration experiment\n",
    "titration=pd.read_csv(StringIO(data), usecols=lambda x: x.upper() in ['NaOH', 'pH'])\n",
    "\n"
   ]
  },
  {
   "cell_type": "code",
   "execution_count": null,
   "id": "ef5deafa-8b30-437b-8dfc-9bf17235d06a",
   "metadata": {},
   "outputs": [],
   "source": [
    "import numpy as np\n",
    "import matplotlib.pyplot as plt\n",
    "\n",
    "x = np.array([20, 50, 60, 90, 100, 150])\n",
    "y = np.array([1.2, 2.6, 4.0, 4.7, 7.1, 9.2])\n",
    "\n",
    "plt.plot(x, y)\n",
    "\n",
    "plt.xlabel(\"NaOH volume\")\n",
    "plt.ylabel(\"pH value\")\n",
    "\n",
    "plt.show()"
   ]
  }
 ],
 "metadata": {
  "kernelspec": {
   "display_name": "Python 3 (ipykernel)",
   "language": "python",
   "name": "python3"
  },
  "language_info": {
   "codemirror_mode": {
    "name": "ipython",
    "version": 3
   },
   "file_extension": ".py",
   "mimetype": "text/x-python",
   "name": "python",
   "nbconvert_exporter": "python",
   "pygments_lexer": "ipython3",
   "version": "3.12.1"
  }
 },
 "nbformat": 4,
 "nbformat_minor": 5
}
