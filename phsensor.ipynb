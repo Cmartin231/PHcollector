{
 "cells": [
  {
   "cell_type": "markdown",
   "id": "8e7ff0dc-e29b-4161-a9e4-955718d88143",
   "metadata": {},
   "source": [
    "The goal of the project is to create a functioning code that will extract information from a pH sensor, store it in a storage medium using pandas, and then plot the data into a titration curve for analysis.\n",
    "\n",
    "Levi: My part of the project is to create a code that works on the interpretation of data from various parts of the research to create a final resulating pH. The URL to the repository is attached: \n",
    "https://github.com/nmalmberg/Genesys/blob/master/genesys.py\n",
    "https://github.com/AtlasScientific/Raspberry-Pi-sample-code/blob/master/uart.py\n",
    "Atlatas Scientific pH-EZO datasheet manual \n",
    "\n",
    "Caden: My part of the project is to take the data that was collected from the pH sensor and store it in a storage medium using pandas. This storage medium will then be used to create a titration curve for the experiment. I have used a pandas user guide to aid in the progress of my project. The URL for this information is https://pandas.pydata.org/docs/user_guide/io.html.\n",
    "https://www3.ntu.edu.sg/home/ehchua/programming/howto/Regexe.html\n",
    "https://docs.python.org/3/library/csv.html#csv.reader\n",
    "\n",
    "Rylie: My part of the project is to take the collected data and plot it into a titration curve using the Matplot code. The progress I have made is the basic code for the axes with appropriate labels. The data values included are not the data points used in this experiment, but placeholders until data values are taken. The information and code was obtained from https://www.w3schools.com/python/matplotlib_labels.asp."
   ]
  },
  {
   "cell_type": "markdown",
   "id": "a3de8c6b-7a17-4557-b72b-d1e0e3122c5c",
   "metadata": {},
   "source": [
    "This code block creates a connection to the pH-EZO sensor"
   ]
  },
  {
   "cell_type": "code",
   "execution_count": 3,
   "id": "019d67da",
   "metadata": {},
   "outputs": [
    {
     "ename": "SerialException",
     "evalue": "[Errno 2] could not open port /dev/cu.usbserial-14110: [Errno 2] No such file or directory: '/dev/cu.usbserial-14110'",
     "output_type": "error",
     "traceback": [
      "\u001b[0;31m---------------------------------------------------------------------------\u001b[0m",
      "\u001b[0;31mFileNotFoundError\u001b[0m                         Traceback (most recent call last)",
      "File \u001b[0;32m~/anaconda3/envs/python/lib/python3.12/site-packages/serial/serialposix.py:322\u001b[0m, in \u001b[0;36mSerial.open\u001b[0;34m(self)\u001b[0m\n\u001b[1;32m    321\u001b[0m \u001b[38;5;28;01mtry\u001b[39;00m:\n\u001b[0;32m--> 322\u001b[0m     \u001b[38;5;28mself\u001b[39m\u001b[38;5;241m.\u001b[39mfd \u001b[38;5;241m=\u001b[39m \u001b[43mos\u001b[49m\u001b[38;5;241;43m.\u001b[39;49m\u001b[43mopen\u001b[49m\u001b[43m(\u001b[49m\u001b[38;5;28;43mself\u001b[39;49m\u001b[38;5;241;43m.\u001b[39;49m\u001b[43mportstr\u001b[49m\u001b[43m,\u001b[49m\u001b[43m \u001b[49m\u001b[43mos\u001b[49m\u001b[38;5;241;43m.\u001b[39;49m\u001b[43mO_RDWR\u001b[49m\u001b[43m \u001b[49m\u001b[38;5;241;43m|\u001b[39;49m\u001b[43m \u001b[49m\u001b[43mos\u001b[49m\u001b[38;5;241;43m.\u001b[39;49m\u001b[43mO_NOCTTY\u001b[49m\u001b[43m \u001b[49m\u001b[38;5;241;43m|\u001b[39;49m\u001b[43m \u001b[49m\u001b[43mos\u001b[49m\u001b[38;5;241;43m.\u001b[39;49m\u001b[43mO_NONBLOCK\u001b[49m\u001b[43m)\u001b[49m\n\u001b[1;32m    323\u001b[0m \u001b[38;5;28;01mexcept\u001b[39;00m \u001b[38;5;167;01mOSError\u001b[39;00m \u001b[38;5;28;01mas\u001b[39;00m msg:\n",
      "\u001b[0;31mFileNotFoundError\u001b[0m: [Errno 2] No such file or directory: '/dev/cu.usbserial-14110'",
      "\nDuring handling of the above exception, another exception occurred:\n",
      "\u001b[0;31mSerialException\u001b[0m                           Traceback (most recent call last)",
      "Cell \u001b[0;32mIn[3], line 6\u001b[0m\n\u001b[1;32m      4\u001b[0m \u001b[38;5;66;03m#connecting to usbport\u001b[39;00m\n\u001b[1;32m      5\u001b[0m usbport \u001b[38;5;241m=\u001b[39m \u001b[38;5;124m'\u001b[39m\u001b[38;5;124m/dev/cu.usbserial-14110\u001b[39m\u001b[38;5;124m'\u001b[39m\n\u001b[0;32m----> 6\u001b[0m ser \u001b[38;5;241m=\u001b[39m \u001b[43mserial\u001b[49m\u001b[38;5;241;43m.\u001b[39;49m\u001b[43mSerial\u001b[49m\u001b[43m(\u001b[49m\u001b[43musbport\u001b[49m\u001b[43m,\u001b[49m\u001b[43m \u001b[49m\u001b[38;5;241;43m9600\u001b[39;49m\u001b[43m,\u001b[49m\u001b[43m \u001b[49m\u001b[43mtimeout\u001b[49m\u001b[38;5;241;43m=\u001b[39;49m\u001b[38;5;241;43m0\u001b[39;49m\u001b[43m)\u001b[49m\n\u001b[1;32m      8\u001b[0m ser\u001b[38;5;241m.\u001b[39mwrite(\u001b[38;5;124mb\u001b[39m\u001b[38;5;124m'\u001b[39m\u001b[38;5;124mC,0\u001b[39m\u001b[38;5;130;01m\\n\u001b[39;00m\u001b[38;5;124m'\u001b[39m)\n\u001b[1;32m      9\u001b[0m ser\u001b[38;5;241m.\u001b[39mwrite(\u001b[38;5;124mb\u001b[39m\u001b[38;5;124m'\u001b[39m\u001b[38;5;124mR\u001b[39m\u001b[38;5;130;01m\\n\u001b[39;00m\u001b[38;5;124m'\u001b[39m)\n",
      "File \u001b[0;32m~/anaconda3/envs/python/lib/python3.12/site-packages/serial/serialutil.py:244\u001b[0m, in \u001b[0;36mSerialBase.__init__\u001b[0;34m(self, port, baudrate, bytesize, parity, stopbits, timeout, xonxoff, rtscts, write_timeout, dsrdtr, inter_byte_timeout, exclusive, **kwargs)\u001b[0m\n\u001b[1;32m    241\u001b[0m     \u001b[38;5;28;01mraise\u001b[39;00m \u001b[38;5;167;01mValueError\u001b[39;00m(\u001b[38;5;124m'\u001b[39m\u001b[38;5;124munexpected keyword arguments: \u001b[39m\u001b[38;5;132;01m{!r}\u001b[39;00m\u001b[38;5;124m'\u001b[39m\u001b[38;5;241m.\u001b[39mformat(kwargs))\n\u001b[1;32m    243\u001b[0m \u001b[38;5;28;01mif\u001b[39;00m port \u001b[38;5;129;01mis\u001b[39;00m \u001b[38;5;129;01mnot\u001b[39;00m \u001b[38;5;28;01mNone\u001b[39;00m:\n\u001b[0;32m--> 244\u001b[0m     \u001b[38;5;28;43mself\u001b[39;49m\u001b[38;5;241;43m.\u001b[39;49m\u001b[43mopen\u001b[49m\u001b[43m(\u001b[49m\u001b[43m)\u001b[49m\n",
      "File \u001b[0;32m~/anaconda3/envs/python/lib/python3.12/site-packages/serial/serialposix.py:325\u001b[0m, in \u001b[0;36mSerial.open\u001b[0;34m(self)\u001b[0m\n\u001b[1;32m    323\u001b[0m \u001b[38;5;28;01mexcept\u001b[39;00m \u001b[38;5;167;01mOSError\u001b[39;00m \u001b[38;5;28;01mas\u001b[39;00m msg:\n\u001b[1;32m    324\u001b[0m     \u001b[38;5;28mself\u001b[39m\u001b[38;5;241m.\u001b[39mfd \u001b[38;5;241m=\u001b[39m \u001b[38;5;28;01mNone\u001b[39;00m\n\u001b[0;32m--> 325\u001b[0m     \u001b[38;5;28;01mraise\u001b[39;00m SerialException(msg\u001b[38;5;241m.\u001b[39merrno, \u001b[38;5;124m\"\u001b[39m\u001b[38;5;124mcould not open port \u001b[39m\u001b[38;5;132;01m{}\u001b[39;00m\u001b[38;5;124m: \u001b[39m\u001b[38;5;132;01m{}\u001b[39;00m\u001b[38;5;124m\"\u001b[39m\u001b[38;5;241m.\u001b[39mformat(\u001b[38;5;28mself\u001b[39m\u001b[38;5;241m.\u001b[39m_port, msg))\n\u001b[1;32m    326\u001b[0m \u001b[38;5;66;03m#~ fcntl.fcntl(self.fd, fcntl.F_SETFL, 0)  # set blocking\u001b[39;00m\n\u001b[1;32m    328\u001b[0m \u001b[38;5;28mself\u001b[39m\u001b[38;5;241m.\u001b[39mpipe_abort_read_r, \u001b[38;5;28mself\u001b[39m\u001b[38;5;241m.\u001b[39mpipe_abort_read_w \u001b[38;5;241m=\u001b[39m \u001b[38;5;28;01mNone\u001b[39;00m, \u001b[38;5;28;01mNone\u001b[39;00m\n",
      "\u001b[0;31mSerialException\u001b[0m: [Errno 2] could not open port /dev/cu.usbserial-14110: [Errno 2] No such file or directory: '/dev/cu.usbserial-14110'"
     ]
    }
   ],
   "source": [
    "import time\n",
    "import serial\n",
    "\n",
    "#connecting to usbport\n",
    "usbport = '/dev/cu.usbserial-14110'\n",
    "ser = serial.Serial(usbport, 9600, timeout=0)\n",
    "    \n",
    "ser.write(b'C,0\\n')\n",
    "ser.write(b'R\\n')\n",
    "ser.read(7)"
   ]
  },
  {
   "cell_type": "markdown",
   "id": "c5c95c69-4be7-4e52-96c3-36693b44d6f2",
   "metadata": {},
   "source": [
    "This code defines the calibration of the pH sensor"
   ]
  },
  {
   "cell_type": "code",
   "execution_count": 62,
   "id": "95dab321-fecd-4dbc-96ed-fd7f40a97d41",
   "metadata": {},
   "outputs": [],
   "source": [
    "#Calibration values set\n",
    "CALIBRATION_VALUES = [10, 7, 4]\n",
    "# creating a function to create a calibration mode over the sensor #\n",
    "def calibrate():\n",
    "    ser.write(b'C\\n')\n",
    "    time.sleep(0.1)\n",
    "    ser.write(b'R\\n')\n",
    "    time.sleep(0.1)\n",
    "    ser.write(b'W'+bytes(CALIBRATION_VALUES)+b'\\n')\n",
    "    time.sleep(0.1)\n",
    "    ser.write(b'S\\n')\n",
    "    time.sleep(0.1)\n",
    "    ser.write(b'R\\n')\n",
    "    time.sleep(0.1)\n",
    "    ser.close()\n",
    "\n",
    "calibrate()"
   ]
  },
  {
   "cell_type": "markdown",
   "id": "e1215a1c-cd8c-42c0-90a4-8f984a27f93e",
   "metadata": {},
   "source": [
    "This code defines the readings of the pH sensor into a loop for collection"
   ]
  },
  {
   "cell_type": "code",
   "execution_count": 4,
   "id": "640fea08-d25b-4839-8ec7-08b4956929dd",
   "metadata": {},
   "outputs": [
    {
     "ename": "NameError",
     "evalue": "name 'ser' is not defined",
     "output_type": "error",
     "traceback": [
      "\u001b[0;31m---------------------------------------------------------------------------\u001b[0m",
      "\u001b[0;31mNameError\u001b[0m                                 Traceback (most recent call last)",
      "Cell \u001b[0;32mIn[4], line 26\u001b[0m\n\u001b[1;32m     24\u001b[0m \u001b[38;5;66;03m# main loop to read pH value of the sensor # \u001b[39;00m\n\u001b[1;32m     25\u001b[0m \u001b[38;5;28;01mwhile\u001b[39;00m \u001b[38;5;28;01mTrue\u001b[39;00m:\n\u001b[0;32m---> 26\u001b[0m     pH \u001b[38;5;241m=\u001b[39m \u001b[43mread_ph\u001b[49m\u001b[43m(\u001b[49m\u001b[43m)\u001b[49m\n\u001b[1;32m     27\u001b[0m     \u001b[38;5;28mprint\u001b[39m(\u001b[38;5;124m\"\u001b[39m\u001b[38;5;124mpH:\u001b[39m\u001b[38;5;124m\"\u001b[39m, pH)\n\u001b[1;32m     28\u001b[0m     time\u001b[38;5;241m.\u001b[39msleep(\u001b[38;5;241m3\u001b[39m)\n",
      "Cell \u001b[0;32mIn[4], line 4\u001b[0m, in \u001b[0;36mread_ph\u001b[0;34m()\u001b[0m\n\u001b[1;32m      3\u001b[0m \u001b[38;5;28;01mdef\u001b[39;00m \u001b[38;5;21mread_ph\u001b[39m():\n\u001b[0;32m----> 4\u001b[0m     \u001b[43mser\u001b[49m\u001b[38;5;241m.\u001b[39mwrite(\u001b[38;5;124mb\u001b[39m\u001b[38;5;124m'\u001b[39m\u001b[38;5;124mR\u001b[39m\u001b[38;5;130;01m\\n\u001b[39;00m\u001b[38;5;124m'\u001b[39m)\n\u001b[1;32m      5\u001b[0m     ser\u001b[38;5;241m.\u001b[39mwrite(\u001b[38;5;124mb\u001b[39m\u001b[38;5;124m'\u001b[39m\u001b[38;5;124mC,0\u001b[39m\u001b[38;5;130;01m\\n\u001b[39;00m\u001b[38;5;124m'\u001b[39m) \n\u001b[1;32m      6\u001b[0m     time\u001b[38;5;241m.\u001b[39msleep(\u001b[38;5;241m0.1\u001b[39m)\n",
      "\u001b[0;31mNameError\u001b[0m: name 'ser' is not defined"
     ]
    }
   ],
   "source": [
    "import re\n",
    "import csv\n",
    "def read_ph():\n",
    "    ser.write(b'R\\n')\n",
    "    ser.write(b'C,0\\n') \n",
    "    time.sleep(0.1)\n",
    "\n",
    "    response = ser.read(7)\n",
    "\n",
    "    response = ser.read(ser.inWaiting()).decode('utf-8').strip()\n",
    "    response = re.findall(r'-?\\d+\\.?\\d*', response)\n",
    "    if response:\n",
    "        pH = float(response[1])\n",
    "        return pH\n",
    "    else:\n",
    "        return None  \n",
    "    \n",
    "    pH = float(response)\n",
    "    return pH\n",
    "    \n",
    "# termination of loop #\n",
    "start_time = time.time()\n",
    "loop_time_limit = 60\n",
    "# main loop to read pH value of the sensor # \n",
    "while True:\n",
    "    pH = read_ph()\n",
    "    print(\"pH:\", pH)\n",
    "    time.sleep(3)\n",
    "    elapsed_time = time.time() - start_time\n",
    "    if elapsed_time > loop_time_limit:\n",
    "        break\n",
    "\n",
    "pH = [pH]\n",
    "\n",
    "with open('pH_data.csv', 'w', newline='') as csvfile:\n",
    "    writer = csv.writer(csvfile)\n",
    "    writer.writerow('pH')\n",
    "    for row in pH[1:]:\n",
    "        writer.writerow(row)"
   ]
  },
  {
   "cell_type": "markdown",
   "id": "88937f2e-8392-4dd3-96a5-572d614c2a12",
   "metadata": {},
   "source": [
    "This code block takes data from the sensor and converts into appropriate data frame to use for analysis"
   ]
  },
  {
   "cell_type": "code",
   "execution_count": 1,
   "id": "a5931199",
   "metadata": {},
   "outputs": [
    {
     "name": "stderr",
     "output_type": "stream",
     "text": [
      "/var/folders/2m/b8wn0zfs775d9yg80drd5w4w0000gn/T/ipykernel_12830/3677932525.py:3: DeprecationWarning: \n",
      "Pyarrow will become a required dependency of pandas in the next major release of pandas (pandas 3.0),\n",
      "(to allow more performant data types, such as the Arrow string type, and better interoperability with other libraries)\n",
      "but was not found to be installed on your system.\n",
      "If this would cause problems for you,\n",
      "please provide us feedback at https://github.com/pandas-dev/pandas/issues/54466\n",
      "        \n",
      "  import pandas as pd\n"
     ]
    },
    {
     "name": "stdin",
     "output_type": "stream",
     "text": [
      "Enter the name of the Acid being titrated:  HCl\n",
      "Enter the volume of NaOH added to the acid:  20\n"
     ]
    },
    {
     "ename": "NameError",
     "evalue": "name 'loop_time_limit' is not defined",
     "output_type": "error",
     "traceback": [
      "\u001b[0;31m---------------------------------------------------------------------------\u001b[0m",
      "\u001b[0;31mNameError\u001b[0m                                 Traceback (most recent call last)",
      "Cell \u001b[0;32mIn[1], line 17\u001b[0m\n\u001b[1;32m     14\u001b[0m \u001b[38;5;66;03m#Convert to the volume of NaOH from the time that passed\u001b[39;00m\n\u001b[1;32m     15\u001b[0m Volume \u001b[38;5;241m=\u001b[39m \u001b[38;5;28mfloat\u001b[39m(\u001b[38;5;28minput\u001b[39m(\u001b[38;5;124m\"\u001b[39m\u001b[38;5;124mEnter the volume of NaOH added to the acid: \u001b[39m\u001b[38;5;124m\"\u001b[39m)) \u001b[38;5;66;03m#The volume used for the titration\u001b[39;00m\n\u001b[0;32m---> 17\u001b[0m flow_rate \u001b[38;5;241m=\u001b[39m Volume \u001b[38;5;241m/\u001b[39m \u001b[43mloop_time_limit\u001b[49m \u001b[38;5;66;03m#Flow Rate of the titration\u001b[39;00m\n\u001b[1;32m     18\u001b[0m NaOH \u001b[38;5;241m=\u001b[39m flow_rate \u001b[38;5;241m*\u001b[39m elapsed_time \u001b[38;5;66;03m#NaOh added at specific elapsed time\u001b[39;00m\n\u001b[1;32m     20\u001b[0m \u001b[38;5;66;03m##Dataframe that is stacked will columns of only the volume of NaOH and pH value of the solution\u001b[39;00m\n",
      "\u001b[0;31mNameError\u001b[0m: name 'loop_time_limit' is not defined"
     ]
    }
   ],
   "source": [
    "##Read the data collected then it will convert into a dataframe then will be read to be plotted \n",
    "\n",
    "import pandas as pd\n",
    "from io import StringIO\n",
    "\n",
    "data = pd.read_csv('ph_data.csv', delimiter='\\t', names=['Time', 'pH'])\n",
    "\n",
    "# Convert the 'Time' column to a DateTime object\n",
    "#data['Time'] = pd.to_datetime(data['Time'], format='%Y-%m-%d %H:%M:%S.%f')\n",
    "\n",
    "#Naming the acid that was used in titration\n",
    "Acid = input(\"Enter the name of the Acid being titrated: \")\n",
    "\n",
    "#Convert to the volume of NaOH from the time that passed\n",
    "Volume = float(input(\"Enter the volume of NaOH added to the acid: \")) #The volume used for the titration\n",
    "\n",
    "flow_rate = Volume / loop_time_limit #Flow Rate of the titration\n",
    "NaOH = flow_rate * elapsed_time #NaOh added at specific elapsed time\n",
    "\n",
    "##Dataframe that is stacked will columns of only the volume of NaOH and pH value of the solution\n",
    "df = pd.DataFrame({ \n",
    "    'Acid': Acid,\n",
    "    'NaOH': [NaOH], \n",
    "    'pH': [0]\n",
    "}, index=[0])\n",
    "\n",
    "##titration is a data frame that shows the values of the volume of NaOH and values of pH from the titration experiment\n",
    "def titration(df):\n",
    "    titration = pd.DataFrame(df.to_records())\n",
    "    titration.name = 'titration_pH'\n",
    "    titration.columns = ['Time', 'Acid', 'NaOH', 'pH']\n",
    "    return titration\n",
    "\n",
    "titration_data = titration(df)\n",
    "data = data.join(titration_data, lsuffix='_left', rsuffix='_right')\n"
   ]
  },
  {
   "cell_type": "markdown",
   "id": "807f9af7-18a7-4735-b749-2ede90835009",
   "metadata": {},
   "source": [
    "The code block will calulate the equivalence point of the experiment and display a graph of the titration curve."
   ]
  },
  {
   "cell_type": "code",
   "execution_count": 33,
   "id": "7fad3b38",
   "metadata": {},
   "outputs": [
    {
     "name": "stdout",
     "output_type": "stream",
     "text": [
      "The equivalence point is at index nan\n"
     ]
    },
    {
     "name": "stderr",
     "output_type": "stream",
     "text": [
      "/var/folders/2m/b8wn0zfs775d9yg80drd5w4w0000gn/T/ipykernel_1802/1994129872.py:8: FutureWarning: The behavior of Series.idxmax with all-NA values, or any-NA and skipna=False, is deprecated. In a future version this will raise ValueError\n",
      "  equivalence_point = pH_change.idxmax()\n"
     ]
    },
    {
     "data": {
      "image/png": "[encoded data removed]",
      "text/plain": [
       "<Figure size 640x480 with 1 Axes>"
      ]
     },
     "metadata": {},
     "output_type": "display_data"
    }
   ],
   "source": [
    "import numpy as np\n",
    "import matplotlib.pyplot as plt\n",
    "\n",
    "#Calculate the pH change\n",
    "pH_change = titration_data['pH'].diff()\n",
    "\n",
    "#Find the greatest change of pH\n",
    "equivalence_point = pH_change[pH_change.notna()].idxmax()\n",
    "\n",
    "#The equivalence value is printed\n",
    "print(\"The equivalence point is at \", equivalence_point)\n",
    "\n",
    "#Creating a scatter plot of the titration experiment\n",
    "plt.scatter(titration_data['NaOH'], titration_data['pH'])\n",
    "\n",
    "#Label varies axis and the title of the graph\n",
    "plt.xlabel(\"NaOH volume\")\n",
    "plt.ylabel(\"pH value\")\n",
    "plt.title(\"Titration Curve\")\n",
    "\n",
    "plt.show()"
   ]
  },
  {
   "cell_type": "code",
   "execution_count": null,
   "id": "3318f5f4-14b8-43f1-860a-b3d2960aeebd",
   "metadata": {},
   "outputs": [],
   "source": []
  }
 ],
 "metadata": {
  "kernelspec": {
   "display_name": "Python 3 (ipykernel)",
   "language": "python",
   "name": "python3"
  },
  "language_info": {
   "codemirror_mode": {
    "name": "ipython",
    "version": 3
   },
   "file_extension": ".py",
   "mimetype": "text/x-python",
   "name": "python",
   "nbconvert_exporter": "python",
   "pygments_lexer": "ipython3",
   "version": "3.12.1"
  }
 },
 "nbformat": 4,
 "nbformat_minor": 5
}
