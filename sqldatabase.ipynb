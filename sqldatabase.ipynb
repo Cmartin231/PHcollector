{
 "cells": [
  {
   "cell_type": "code",
   "execution_count": null,
   "id": "be906989-f683-472b-b1b4-c77d03808d40",
   "metadata": {},
   "outputs": [],
   "source": [
    "## This file is to generate a sql storage medium that will store data from a pH meter collector.\n",
    "## This data will be used to generate a titration curve. "
   ]
  }
 ],
 "metadata": {
  "kernelspec": {
   "display_name": "Python 3 (ipykernel)",
   "language": "python",
   "name": "python3"
  },
  "language_info": {
   "codemirror_mode": {
    "name": "ipython",
    "version": 3
   },
   "file_extension": ".py",
   "mimetype": "text/x-python",
   "name": "python",
   "nbconvert_exporter": "python",
   "pygments_lexer": "ipython3",
   "version": "3.12.1"
  }
 },
 "nbformat": 4,
 "nbformat_minor": 5
}
